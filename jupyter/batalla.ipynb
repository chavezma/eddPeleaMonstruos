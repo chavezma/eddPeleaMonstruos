{
 "cells": [
  {
   "cell_type": "markdown",
   "metadata": {},
   "source": [
    "# Módulo `batalla`\n",
    "El módulo batalla contiene la implementación de la clase Batalla que realiza las acciones y lógica en la lucha de monstruos. Esto incluye la gestion de los jugadores, los turnos y los ataques a realizarse.\n",
    "\n"
   ]
  },
  {
   "cell_type": "markdown",
   "metadata": {},
   "source": [
    "## Clase `Batalla`\n",
    "La clase `Batalla` posee los siguientes atributos que le permiten manejar la pelea:\n",
    "- Listado de jugadores\n",
    "- Turno actual\n",
    "- Nro de rondas\n",
    "- Lista que permite guardar los terminos que aplican al cálculo de daño"
   ]
  },
  {
   "cell_type": "markdown",
   "metadata": {},
   "source": [
    "## Método `__str__`\n",
    "Se sobreescribre el metodo `str` para poder imprimir tras cada ronda un resumen del resultado de la partida."
   ]
  },
  {
   "cell_type": "code",
   "execution_count": 48,
   "metadata": {},
   "outputs": [
    {
     "name": "stdout",
     "output_type": "stream",
     "text": [
      "\tMonstruo = [Splinter] at_esp_usados [0/4] vida [100] - elementos [AIRE, FUEGO]\n\tMonstruo = [Shredder] at_esp_usados [0/4] vida [100] - elementos [AGUA, TIERRA]\n\tUltimo Turno = [Turno.Jugador1]\n\tRondas jugadas = [0]\n"
     ]
    }
   ],
   "source": [
    "from src.Batalla import Batalla\n",
    "from src.Elemento import *\n",
    "from src.Monstruo import Monstruo\n",
    "\n",
    "b = Batalla()\n",
    "m1 = Monstruo(0, \"Splinter\", [Elemento.AIRE, Elemento.FUEGO])\n",
    "m2 = Monstruo(1, \"Shredder\", [Elemento.AGUA, Elemento.TIERRA])\n",
    "\n",
    "b.jugadores = [m1, m2]\n",
    "\n",
    "print(b)"
   ]
  },
  {
   "cell_type": "markdown",
   "metadata": {},
   "source": [
    "## Método `obtener_atacante()`\n",
    "\n",
    "Con este método la batalla retorna el jugador que tiene el turno para atacar."
   ]
  },
  {
   "cell_type": "code",
   "execution_count": 49,
   "metadata": {},
   "outputs": [
    {
     "name": "stdout",
     "output_type": "stream",
     "text": [
      "\tMonstruo = [Splinter] at_esp_usados [0/4] vida [100] - elementos [AIRE, FUEGO]\n"
     ]
    }
   ],
   "source": [
    "print(b.obtener_atacante())"
   ]
  },
  {
   "cell_type": "markdown",
   "metadata": {},
   "source": [
    "## Método `obtener_defensor()`\n",
    "\n",
    "Con este método la batalla retorna el jugador que le corresponde recibir el ataque."
   ]
  },
  {
   "cell_type": "code",
   "execution_count": 50,
   "metadata": {},
   "outputs": [
    {
     "name": "stdout",
     "output_type": "stream",
     "text": [
      "\tMonstruo = [Shredder] at_esp_usados [0/4] vida [100] - elementos [AGUA, TIERRA]\n"
     ]
    }
   ],
   "source": [
    "print(b.obtener_defensor())"
   ]
  },
  {
   "cell_type": "markdown",
   "metadata": {},
   "source": [
    "## Método `actualizar_turno()`\n",
    "Este método se aplica una vez finalizada la pelea actual para pasar el turno al otro jugador."
   ]
  },
  {
   "cell_type": "code",
   "execution_count": 51,
   "metadata": {},
   "outputs": [
    {
     "name": "stdout",
     "output_type": "stream",
     "text": [
      "\tMonstruo = [Splinter] at_esp_usados [0/4] vida [100] - elementos [AIRE, FUEGO]\n\tMonstruo = [Shredder] at_esp_usados [0/4] vida [100] - elementos [AGUA, TIERRA]\n\t----------------------------------------------------------------------------------------------\n\tMonstruo = [Shredder] at_esp_usados [0/4] vida [100] - elementos [AGUA, TIERRA]\n\tMonstruo = [Splinter] at_esp_usados [0/4] vida [100] - elementos [AIRE, FUEGO]\n"
     ]
    }
   ],
   "source": [
    "print(b.obtener_atacante())\n",
    "print(b.obtener_defensor())\n",
    "b.actualizar_turno()\n",
    "print(\"\\t----------------------------------------------------------------------------------------------\")\n",
    "print(b.obtener_atacante())\n",
    "print(b.obtener_defensor())"
   ]
  },
  {
   "cell_type": "markdown",
   "metadata": {},
   "source": [
    "## Método `pelear()`\n",
    "El método recibe el tipo de ataque y el elemento del ataque para direccionarlo al jugador que le toca defenderse"
   ]
  },
  {
   "cell_type": "code",
   "execution_count": 52,
   "metadata": {},
   "outputs": [
    {
     "name": "stdout",
     "output_type": "stream",
     "text": [
      "\tMonstruo = [Shredder] at_esp_usados [0/4] vida [100] - elementos [AGUA, TIERRA]\n\tMonstruo = [Splinter] at_esp_usados [0/4] vida [100] - elementos [AIRE, FUEGO]\n\t----------------------------------------------------------------------------------------------\n\tMonstruo = [Splinter] at_esp_usados [0/4] vida [85.0] - elementos [AIRE, FUEGO]\n\tMonstruo = [Shredder] at_esp_usados [1/4] vida [100] - elementos [AGUA, TIERRA]\n\tUltimo Turno = [Turno.Jugador2]\n\tRondas jugadas = [0]\n"
     ]
    }
   ],
   "source": [
    "print(b.obtener_atacante())\n",
    "print(b.obtener_defensor())\n",
    "print(\"\\t----------------------------------------------------------------------------------------------\")\n",
    "b.pelear(TipoAtaque.ESPECIAL, Elemento.AGUA)\n",
    "\n",
    "print(b)"
   ]
  },
  {
   "cell_type": "markdown",
   "metadata": {},
   "source": [
    "## Método `finalizado()`\n",
    "una vez finalizada la pelea del turno actual, este metodo determina si la batalla termino mirando la vida resultante que tiene el jugador defensor."
   ]
  },
  {
   "cell_type": "code",
   "execution_count": 53,
   "metadata": {},
   "outputs": [
    {
     "name": "stdout",
     "output_type": "stream",
     "text": [
      "False\nTrue\n"
     ]
    }
   ],
   "source": [
    "print(str(b.finalizado(b.obtener_defensor())))\n",
    "m1 = b.obtener_defensor()\n",
    "m1.vida = 0\n",
    "print(str(b.finalizado(b.obtener_defensor())))"
   ]
  }
 ],
 "metadata": {
  "kernelspec": {
   "display_name": "Python 3",
   "language": "python",
   "name": "python3"
  },
  "language_info": {
   "codemirror_mode": {
    "name": "ipython",
    "version": 3
   },
   "file_extension": ".py",
   "mimetype": "text/x-python",
   "name": "python",
   "nbconvert_exporter": "python",
   "pygments_lexer": "ipython3",
   "version": "3.7.0"
  }
 },
 "nbformat": 4,
 "nbformat_minor": 2
}
