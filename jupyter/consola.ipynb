{
 "cells": [
  {
   "cell_type": "markdown",
   "metadata": {},
   "source": [
    "# Módulo `Consola`\n",
    "El módulo Consola es la interfaz por la cual se emiten la mayoria de los mensajes hacia la pantalla, permite armar menues dinámicos a traves de diccionarios y solicitar a traves de estos, información o decisiones al usuario.\n",
    "\n",
    "## Clase `Consola`\n",
    "A continuación se detallan los metodos de los que dispone la clase `Consolta` para cumplir su función."
   ]
  },
  {
   "cell_type": "markdown",
   "metadata": {},
   "source": [
    "## Método `titulo`\n",
    "El método `titulo` imprime por pantalla el encabezado del juego, es algo que debe aparecer en todo momento por lo cual se aplica tras cada refresco."
   ]
  },
  {
   "cell_type": "code",
   "execution_count": 12,
   "metadata": {
    "scrolled": true
   },
   "outputs": [
    {
     "name": "stdout",
     "output_type": "stream",
     "text": [
      "\t**********************************************\n\t***********  Batalla de monstruos  ***********\n\t**********************************************\n"
     ]
    }
   ],
   "source": [
    "from src.Consola import Consola\n",
    "from src.Elemento import *\n",
    "\n",
    "c = Consola()\n",
    "\n",
    "c.titulo()"
   ]
  },
  {
   "cell_type": "markdown",
   "metadata": {},
   "source": [
    "## Método `mostrar_turno`\n",
    "El método `mostrar_turno` va indicando debajo del titulo que jugador es el que posee el turno para atacar. "
   ]
  },
  {
   "cell_type": "code",
   "execution_count": 14,
   "metadata": {},
   "outputs": [
    {
     "name": "stdout",
     "output_type": "stream",
     "text": [
      "\t****  Es el turno de [Turno.Jugador1] ****\n\t**********************************************\n\n---------------------------------------------------------\n\n\t****  Es el turno de [Turno.Jugador2] ****\n\t**********************************************\n"
     ]
    }
   ],
   "source": [
    "c.mostrar_turno(Turno.Jugador1)\n",
    "print('\\n---------------------------------------------------------\\n')\n",
    "c.mostrar_turno(Turno.Jugador2)"
   ]
  },
  {
   "cell_type": "markdown",
   "metadata": {},
   "source": [
    "# Método `dibujar_menu`\n",
    "El método `dibujar_menu` recibe por parámetro un diccionario y lo que hace es plasmar sobre la pantalla un menú numerado. \n",
    "Donde cada clave del diccionario seria la numeración del menu, y el texto de la opción es entregada por el valor del diccionario para esa clave."
   ]
  },
  {
   "cell_type": "code",
   "execution_count": 15,
   "metadata": {},
   "outputs": [
    {
     "name": "stdout",
     "output_type": "stream",
     "text": [
      "\n\n\t[1] Nuevo Juego.\n\t[2] Continuar.\n\t[3] Cargar Juego.\n\t[4] Salir.\n\n\n\t[1] AIRE.\n\t[2] TIERRA.\n\t[3] AGUA.\n\t[4] FUEGO.\n\t[5] Atras.\n"
     ]
    }
   ],
   "source": [
    "dict_opciones_menu_principal = {1: \"Nuevo Juego\", 2: \"Continuar\", 3: \"Cargar Juego\", 4: \"Salir\"}\n",
    "dict_opciones_elementos = {1: Elemento.AIRE, 2: Elemento.TIERRA, 3: Elemento.AGUA, 4: Elemento.FUEGO,5: \"Atras\"}\n",
    "\n",
    "c.dibujar_menu(dict_opciones_menu_principal)\n",
    "\n",
    "c.dibujar_menu(dict_opciones_elementos)"
   ]
  },
  {
   "cell_type": "markdown",
   "metadata": {},
   "source": [
    "# Método `pedir_opcion_menu`\n",
    "El método `pedir_opcion_menu` recibe como parametro un diccionario, y realiza dos acciones, utiliza __dibujar_menu__ para imprimir por pantalla las opciones, y luego solicita que el usuario seleccione una de ellas.\n"
   ]
  },
  {
   "cell_type": "markdown",
   "metadata": {},
   "source": [
    "En el siguiente ejemplo se visualiza el uso, se puede elegir alguna opción válida"
   ]
  },
  {
   "cell_type": "code",
   "execution_count": 16,
   "metadata": {},
   "outputs": [
    {
     "name": "stdout",
     "output_type": "stream",
     "text": [
      "\n\n\t[1] AIRE.\n\t[2] TIERRA.\n\t[3] AGUA.\n\t[4] FUEGO.\n\t[5] Atras.\n"
     ]
    },
    {
     "ename": "StdinNotImplementedError",
     "evalue": "raw_input was called, but this frontend does not support input requests.",
     "traceback": [
      "\u001b[0;31m---------------------------------------------------------------------------\u001b[0m",
      "\u001b[0;31mStdinNotImplementedError\u001b[0m                  Traceback (most recent call last)",
      "\u001b[0;32m<ipython-input-16-bf6e6d10547c>\u001b[0m in \u001b[0;36m<module>\u001b[0;34m()\u001b[0m\n\u001b[0;32m----> 1\u001b[0;31m \u001b[0mopcion\u001b[0m \u001b[0;34m=\u001b[0m \u001b[0mc\u001b[0m\u001b[0;34m.\u001b[0m\u001b[0mpedir_opcion_menu\u001b[0m\u001b[0;34m(\u001b[0m\u001b[0mdict_opciones_elementos\u001b[0m\u001b[0;34m)\u001b[0m\u001b[0;34m\u001b[0m\u001b[0m\n\u001b[0m\u001b[1;32m      2\u001b[0m \u001b[0mprint\u001b[0m\u001b[0;34m(\u001b[0m\u001b[0;34m\"Opción elegida: \"\u001b[0m \u001b[0;34m+\u001b[0m \u001b[0mstr\u001b[0m\u001b[0;34m(\u001b[0m\u001b[0mopcion\u001b[0m\u001b[0;34m)\u001b[0m\u001b[0;34m)\u001b[0m\u001b[0;34m\u001b[0m\u001b[0m\n",
      "\u001b[0;32mC:\\Users\\matia\\PycharmProjects\\eddPeleaMonstruos\\src\\Consola.py\u001b[0m in \u001b[0;36mpedir_opcion_menu\u001b[0;34m(self, dictopcion)\u001b[0m\n\u001b[1;32m     40\u001b[0m         \u001b[0;32mtry\u001b[0m\u001b[0;34m:\u001b[0m\u001b[0;34m\u001b[0m\u001b[0m\n\u001b[1;32m     41\u001b[0m             \u001b[0mself\u001b[0m\u001b[0;34m.\u001b[0m\u001b[0mdibujar_menu\u001b[0m\u001b[0;34m(\u001b[0m\u001b[0mdictopcion\u001b[0m\u001b[0;34m)\u001b[0m\u001b[0;34m\u001b[0m\u001b[0m\n\u001b[0;32m---> 42\u001b[0;31m             \u001b[0mout\u001b[0m \u001b[0;34m=\u001b[0m \u001b[0minput\u001b[0m\u001b[0;34m(\u001b[0m\u001b[0;34m\"\\n\\tElegir una opción: \"\u001b[0m\u001b[0;34m)\u001b[0m\u001b[0;34m\u001b[0m\u001b[0m\n\u001b[0m\u001b[1;32m     43\u001b[0m \u001b[0;34m\u001b[0m\u001b[0m\n\u001b[1;32m     44\u001b[0m             \u001b[0;32mif\u001b[0m \u001b[0mlen\u001b[0m\u001b[0;34m(\u001b[0m\u001b[0mout\u001b[0m\u001b[0;34m)\u001b[0m \u001b[0;34m==\u001b[0m \u001b[0;36m0\u001b[0m\u001b[0;34m:\u001b[0m\u001b[0;34m\u001b[0m\u001b[0m\n",
      "\u001b[0;32mC:\\Users\\matia\\AppData\\Local\\Programs\\Python\\Python37-32\\lib\\site-packages\\ipykernel\\kernelbase.py\u001b[0m in \u001b[0;36mraw_input\u001b[0;34m(self, prompt)\u001b[0m\n\u001b[1;32m    846\u001b[0m         \u001b[0;32mif\u001b[0m \u001b[0;32mnot\u001b[0m \u001b[0mself\u001b[0m\u001b[0;34m.\u001b[0m\u001b[0m_allow_stdin\u001b[0m\u001b[0;34m:\u001b[0m\u001b[0;34m\u001b[0m\u001b[0m\n\u001b[1;32m    847\u001b[0m             raise StdinNotImplementedError(\n\u001b[0;32m--> 848\u001b[0;31m                 \u001b[0;34m\"raw_input was called, but this frontend does not support input requests.\"\u001b[0m\u001b[0;34m\u001b[0m\u001b[0m\n\u001b[0m\u001b[1;32m    849\u001b[0m             )\n\u001b[1;32m    850\u001b[0m         return self._input_request(str(prompt),\n",
      "\u001b[0;31mStdinNotImplementedError\u001b[0m: raw_input was called, but this frontend does not support input requests."
     ],
     "output_type": "error"
    }
   ],
   "source": [
    "opcion = c.pedir_opcion_menu(dict_opciones_elementos)\n",
    "print(\"Opción elegida: \" + str(opcion))"
   ]
  },
  {
   "cell_type": "markdown",
   "metadata": {},
   "source": [
    "Dispone de control de errores.\n",
    "\n",
    "Por decisión de implementación, se optó que, ante un error en la elección, la función disparará una excepción al módulo/clase que lo utilice para decidir si vuelve a solicitar la opcion o sigue otro flujo del programa.\n",
    "\n",
    "Excepciones posibles:\n",
    "- Ante un error de tipo o valor, arroja JuegoOpcionInvalidaException\n",
    "- Ante una interrupcion de teclado, arroja JuegoMenuPrincipalException\n",
    "- Ante cualquier otro error, vuelve al menu principal\n",
    "\n",
    "De lo contrario, como en el caso anterior, retorna la opción elegida (el elemento que contiene el diccionario)"
   ]
  },
  {
   "cell_type": "code",
   "execution_count": 18,
   "metadata": {},
   "outputs": [
    {
     "name": "stdout",
     "output_type": "stream",
     "text": [
      "\n\n\t[1] AIRE.\n\t[2] TIERRA.\n\t[3] AGUA.\n\t[4] FUEGO.\n\t[5] Atras.\n"
     ]
    },
    {
     "ename": "StdinNotImplementedError",
     "evalue": "raw_input was called, but this frontend does not support input requests.",
     "traceback": [
      "\u001b[0;31m---------------------------------------------------------------------------\u001b[0m",
      "\u001b[0;31mStdinNotImplementedError\u001b[0m                  Traceback (most recent call last)",
      "\u001b[0;32m<ipython-input-18-c6d8663a42b5>\u001b[0m in \u001b[0;36m<module>\u001b[0;34m()\u001b[0m\n\u001b[1;32m      1\u001b[0m \u001b[0;32mfrom\u001b[0m \u001b[0msrc\u001b[0m\u001b[0;34m.\u001b[0m\u001b[0mJuegoExcepciones\u001b[0m \u001b[0;32mimport\u001b[0m \u001b[0;34m*\u001b[0m\u001b[0;34m\u001b[0m\u001b[0m\n\u001b[1;32m      2\u001b[0m \u001b[0;32mtry\u001b[0m\u001b[0;34m:\u001b[0m\u001b[0;34m\u001b[0m\u001b[0m\n\u001b[0;32m----> 3\u001b[0;31m     \u001b[0mopcion\u001b[0m \u001b[0;34m=\u001b[0m \u001b[0mc\u001b[0m\u001b[0;34m.\u001b[0m\u001b[0mpedir_opcion_menu\u001b[0m\u001b[0;34m(\u001b[0m\u001b[0mdict_opciones_elementos\u001b[0m\u001b[0;34m)\u001b[0m\u001b[0;34m\u001b[0m\u001b[0m\n\u001b[0m\u001b[1;32m      4\u001b[0m     \u001b[0mprint\u001b[0m\u001b[0;34m(\u001b[0m\u001b[0;34m\"Opción elegida: \"\u001b[0m \u001b[0;34m+\u001b[0m \u001b[0mstr\u001b[0m\u001b[0;34m(\u001b[0m\u001b[0mopcion\u001b[0m\u001b[0;34m)\u001b[0m\u001b[0;34m)\u001b[0m\u001b[0;34m\u001b[0m\u001b[0m\n\u001b[1;32m      5\u001b[0m     \u001b[0mprint\u001b[0m\u001b[0;34m(\u001b[0m\u001b[0;34m\"\\n\"\u001b[0m\u001b[0;34m)\u001b[0m\u001b[0;34m\u001b[0m\u001b[0m\n",
      "\u001b[0;32mC:\\Users\\matia\\PycharmProjects\\eddPeleaMonstruos\\src\\Consola.py\u001b[0m in \u001b[0;36mpedir_opcion_menu\u001b[0;34m(self, dictopcion)\u001b[0m\n\u001b[1;32m     40\u001b[0m             \u001b[0mself\u001b[0m\u001b[0;34m.\u001b[0m\u001b[0mdibujar_menu\u001b[0m\u001b[0;34m(\u001b[0m\u001b[0mdictopcion\u001b[0m\u001b[0;34m)\u001b[0m\u001b[0;34m\u001b[0m\u001b[0m\n\u001b[1;32m     41\u001b[0m             \u001b[0mout\u001b[0m \u001b[0;34m=\u001b[0m \u001b[0minput\u001b[0m\u001b[0;34m(\u001b[0m\u001b[0;34m\"\\n\\tElegir una opción: \"\u001b[0m\u001b[0;34m)\u001b[0m\u001b[0;34m\u001b[0m\u001b[0m\n\u001b[0;32m---> 42\u001b[0;31m \u001b[0;34m\u001b[0m\u001b[0m\n\u001b[0m\u001b[1;32m     43\u001b[0m             \u001b[0;32mif\u001b[0m \u001b[0mlen\u001b[0m\u001b[0;34m(\u001b[0m\u001b[0mout\u001b[0m\u001b[0;34m)\u001b[0m \u001b[0;34m==\u001b[0m \u001b[0;36m0\u001b[0m\u001b[0;34m:\u001b[0m\u001b[0;34m\u001b[0m\u001b[0m\n\u001b[1;32m     44\u001b[0m                 \u001b[0minput\u001b[0m\u001b[0;34m(\u001b[0m\u001b[0;34m\"\\n\\tNo se ha ingresado opcion, se retorna al menu principal\"\u001b[0m\u001b[0;34m)\u001b[0m\u001b[0;34m\u001b[0m\u001b[0m\n",
      "\u001b[0;32mC:\\Users\\matia\\AppData\\Local\\Programs\\Python\\Python37-32\\lib\\site-packages\\ipykernel\\kernelbase.py\u001b[0m in \u001b[0;36mraw_input\u001b[0;34m(self, prompt)\u001b[0m\n\u001b[1;32m    846\u001b[0m         \u001b[0;32mif\u001b[0m \u001b[0;32mnot\u001b[0m \u001b[0mself\u001b[0m\u001b[0;34m.\u001b[0m\u001b[0m_allow_stdin\u001b[0m\u001b[0;34m:\u001b[0m\u001b[0;34m\u001b[0m\u001b[0m\n\u001b[1;32m    847\u001b[0m             raise StdinNotImplementedError(\n\u001b[0;32m--> 848\u001b[0;31m                 \u001b[0;34m\"raw_input was called, but this frontend does not support input requests.\"\u001b[0m\u001b[0;34m\u001b[0m\u001b[0m\n\u001b[0m\u001b[1;32m    849\u001b[0m             )\n\u001b[1;32m    850\u001b[0m         return self._input_request(str(prompt),\n",
      "\u001b[0;31mStdinNotImplementedError\u001b[0m: raw_input was called, but this frontend does not support input requests."
     ],
     "output_type": "error"
    }
   ],
   "source": [
    "from src.JuegoExcepciones import *\n",
    "try:\n",
    "    opcion = c.pedir_opcion_menu(dict_opciones_elementos)\n",
    "    print(\"Opción elegida: \" + str(opcion))\n",
    "    print(\"\\n\")\n",
    "except JuegoOpcionInvalidaException:\n",
    "    print(\"JuegoOpcionInvalidaException\")\n",
    "except JuegoMenuPrincipalException:\n",
    "    raise print(\"JuegoMenuPrincipalException\")\n"
   ]
  },
  {
   "cell_type": "code",
   "execution_count": null,
   "metadata": {},
   "outputs": [],
   "source": []
  }
 ],
 "metadata": {
  "kernelspec": {
   "display_name": "Python 3",
   "language": "python",
   "name": "python3"
  },
  "language_info": {
   "codemirror_mode": {
    "name": "ipython",
    "version": 3
   },
   "file_extension": ".py",
   "mimetype": "text/x-python",
   "name": "python",
   "nbconvert_exporter": "python",
   "pygments_lexer": "ipython3",
   "version": "3.7.0"
  }
 },
 "nbformat": 4,
 "nbformat_minor": 2
}
