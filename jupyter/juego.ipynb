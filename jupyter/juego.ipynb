{
 "cells": [
  {
   "cell_type": "markdown",
   "metadata": {},
   "source": [
    "# Módulo `Juego`\n",
    "El módulo Juego es el que utiliza a todos los demás módulos para hacer funcionar al juego. Además, posee ciertas funciones propias que se relacion con funciones\n",
    "\n",
    "## Clase `Juego`\n",
    "Se pasan a detallar los metodos de los que dispone la clase `Juego` para llevar el funcionamiento del juego.\n",
    "La clase posee los siguientes atributos para funcionar:\n",
    "- Un objeto batalla\n",
    "- Estado actual del juego. Permite navegar el menú.\n",
    "- Dos diccionarios preestablecidos para los menúes básicos:\n",
    "\t- Diccionario de Opciones del Menú Principal\n",
    "\t- Diccionario de Elementos"
   ]
  },
  {
   "cell_type": "markdown",
   "metadata": {},
   "source": [
    "## Método `es_nombre_valido`\n",
    "El método `es_nombre_valido` recibe como parámetro una cadena que representa el nombre de un archivo y valida el formato se le puede dar al archivo donde se va a guardar un juego. Este formato deja solo usar nombres que tengan alphanuméricos y guión bajo."
   ]
  },
  {
   "cell_type": "code",
   "execution_count": 1,
   "metadata": {
    "scrolled": true
   },
   "outputs": [],
   "source": [
    ""
   ]
  },
  {
   "cell_type": "markdown",
   "metadata": {},
   "source": [
    "## Método `guardar_juego`\n",
    "El método `guardar_juego` permite caputar el estado del juego actual, y guardarlo en un archivo para poder continuarlo luego. Para guardar el juego, utiliza el módulo pickle."
   ]
  },
  {
   "cell_type": "code",
   "execution_count": 1,
   "metadata": {},
   "outputs": [],
   "source": [
    ""
   ]
  },
  {
   "cell_type": "markdown",
   "metadata": {},
   "source": [
    "## Método `juegos_guardados`\n",
    "El método `juegos_guardados` realiza una busqueda de los archivos que existen en el directorio de juegos guardados y genera un diccionario con el listado de esos archivos."
   ]
  },
  {
   "cell_type": "code",
   "execution_count": 1,
   "metadata": {},
   "outputs": [],
   "source": [
    ""
   ]
  },
  {
   "cell_type": "markdown",
   "metadata": {},
   "source": [
    "## Método `cargar_juego`\n",
    "El método `cargar_juego` utiiliza por un lado el método __juegos_guardados__ para obtener los juegos, y luego el método __pedir_opcion_menu__ para usar el diccionar y solicitar al usuario que seleccione uno de los archivos a cargar, o tambien la posibilidad de volver al Menu Principal.\n"
   ]
  },
  {
   "cell_type": "code",
   "execution_count": 1,
   "metadata": {},
   "outputs": [],
   "source": [
    ""
   ]
  },
  {
   "cell_type": "markdown",
   "metadata": {},
   "source": [
    "## Método `print_elementos`\n",
    "El método `print_elementos` es un método auxilir para imprimir un mensaje al armar un monstruo para identificar que Nro de elemento esta seleccionando en ese mommento."
   ]
  },
  {
   "cell_type": "code",
   "execution_count": 1,
   "metadata": {},
   "outputs": [],
   "source": [
    ""
   ]
  },
  {
   "cell_type": "markdown",
   "metadata": {},
   "source": [
    "## Método `crear_monstruo`\n",
    "El método `crear_monstruo` realiza la configuración de un monstruo, es decir:\n",
    "- Solicitar un nombre\n",
    "- Solicitar los dos elementos que tendra el monstruo\n",
    "\n",
    "Para ello utilizar los métodos antes descriptos tanto de Juego como de otros Módulos, como ser:\n",
    "- print_elementos\n",
    "- dict_opciones_elementos\n",
    "- pedir_opcion_menu\t"
   ]
  },
  {
   "cell_type": "markdown",
   "metadata": {},
   "source": [
    "## Método `elegir_ataque`\n",
    "El método `elegir_ataque` recibe el jugador/monstruo que sera atacante y arma un diccionario con las combinaciones posible de ataque que tiene disponible el monstruo."
   ]
  },
  {
   "cell_type": "markdown",
   "metadata": {},
   "source": [
    "## Método `elegir_ataque`\n",
    "El método `elegir_ataque` recibe el jugador/monstruo que sera atacante y arma un diccionario con las combinaciones posible de ataque que tiene disponible el monstruo."
   ]
  },
  {
   "cell_type": "code",
   "execution_count": 1,
   "metadata": {},
   "outputs": [],
   "source": []
  },
  {
   "cell_type": "markdown",
   "metadata": {},
   "source": [
    "## Método `resumen_danio`\n",
    "El método `resumen_danio` recibe como parámetro al monstruo defensor, ya que es el que sufre cambios, y muestra por pantalla el calculo final de daño realizado y el estado final del monstruo luego del ataque."
   ]
  },
  {
   "cell_type": "code",
   "execution_count": 1,
   "metadata": {},
   "outputs": [],
   "source": []
  }
 ],
 "metadata": {
  "kernelspec": {
   "display_name": "Python 3",
   "language": "python",
   "name": "python3"
  },
  "language_info": {
   "codemirror_mode": {
    "name": "ipython",
    "version": 3
   },
   "file_extension": ".py",
   "mimetype": "text/x-python",
   "name": "python",
   "nbconvert_exporter": "python",
   "pygments_lexer": "ipython3",
   "version": "3.7.0"
  }
 },
 "nbformat": 4,
 "nbformat_minor": 2
}
