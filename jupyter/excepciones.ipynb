{
 "cells": [
  {
   "cell_type": "markdown",
   "metadata": {},
   "source": [
    "# Módulo `JuegoExcepciones`\n",
    "\n",
    "Este módulo, define una serie de clases de excepciones que heredan de `Exception` para controlar algunos flujos de error que puede tener el juego.\n",
    "\n",
    "Estas posibles excepciones son:\n",
    "- JuegoMenuPrincipalException\n",
    "\t- Permite retomar al menu principal del juego.\n",
    "- JuegoGuardadoExisteException\n",
    "\t- Permite retomar al menu principal tras intentar guardar un juego con un nombre que ya existe.\n",
    "- JuegoGuardarException\n",
    "\t- Permite volver al menu principal tras algun error al intentar guardar el juego.\n",
    "- JuegoOpcionInvalidaException\n",
    "\t- Permite regresar al menu anterior tras existir algún error al intentar elegir opción de un menú.\n",
    "- JuegoCrearMonstruoException\n",
    "\t- Permite caputar errores al intenter definir los atributos de un Monstruo.\n"
   ]
  }
 ],
 "metadata": {
  "kernelspec": {
   "display_name": "Python 3",
   "language": "python",
   "name": "python3"
  },
  "language_info": {
   "codemirror_mode": {
    "name": "ipython",
    "version": 3
   },
   "file_extension": ".py",
   "mimetype": "text/x-python",
   "name": "python",
   "nbconvert_exporter": "python",
   "pygments_lexer": "ipython3",
   "version": "3.7.0"
  }
 },
 "nbformat": 4,
 "nbformat_minor": 2
}
