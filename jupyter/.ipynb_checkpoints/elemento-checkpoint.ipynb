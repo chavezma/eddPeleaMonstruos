{
 "cells": [
  {
   "cell_type": "markdown",
   "metadata": {},
   "source": [
    "# Módulo `Elemento`\n",
    "\n",
    "Éste módulo implementa algunos tipos simples de objetos que utilizaran principalmente enumeraciones, un tipo que hereda de la clase `Enum` del módulo estándar `enum`"
   ]
  },
  {
   "cell_type": "markdown",
   "metadata": {},
   "source": [
    "## Clase `Elemento`\n",
    "\n",
    "Éste módulo implementa `Elemento`. Se utilizaran enumeraciones, un tipo que hereda de la clase `Enum` del módulo estándar `enum`"
   ]
  },
  {
   "cell_type": "code",
   "execution_count": 47,
   "metadata": {},
   "outputs": [
    {
     "name": "stdout",
     "output_type": "stream",
     "text": [
      "NADA\n",
      "AIRE\n",
      "TIERRA\n",
      "AGUA\n",
      "FUEGO\n"
     ]
    }
   ],
   "source": [
    "from src.Elemento import Elemento\n",
    "for elem in Elemento:\n",
    "    print(elem)"
   ]
  },
  {
   "cell_type": "markdown",
   "metadata": {},
   "source": [
    "### Método `__str__`\n",
    "\n",
    "Decidimos sobreescribir el método `__str__` para tener un texto mas amigable."
   ]
  },
  {
   "cell_type": "code",
   "execution_count": 48,
   "metadata": {},
   "outputs": [
    {
     "name": "stdout",
     "output_type": "stream",
     "text": [
      "AGUA\n"
     ]
    }
   ],
   "source": [
    "print(Elemento.AGUA)"
   ]
  },
  {
   "cell_type": "markdown",
   "metadata": {},
   "source": [
    "### Método `tiene_plus_ataque`\n",
    "\n",
    "El método `tiene_plus_ataque` recibe como parámetro otro elemento y retorna contra que otro elemento tiene bonificación al atacarlo.\n",
    "\n",
    "![Regla de ataque: AGUA > FUEGO > TIERRA > AIRE](fortalezas-de-ataque.png)"
   ]
  },
  {
   "cell_type": "code",
   "execution_count": 49,
   "metadata": {},
   "outputs": [
    {
     "data": {
      "text/plain": [
       "<Elemento.AGUA: (3, 'AGUA')>"
      ]
     },
     "execution_count": 49,
     "metadata": {},
     "output_type": "execute_result"
    }
   ],
   "source": [
    "Elemento.NONE.tiene_plus_ataque(Elemento.FUEGO)"
   ]
  },
  {
   "cell_type": "markdown",
   "metadata": {},
   "source": [
    "### Método `tiene_plus_defensa`\n",
    "\n",
    "El método `tiene_plus_defensa` recibe como parámetro otro elemento y retorna contra que otro elemento tiene bonificación de defensa al ser atacado.\n",
    "![Regla de defensa: AGUA > FUEGO > AIRE > TIERRA](fortalezas-en-defensa.png)"
   ]
  },
  {
   "cell_type": "code",
   "execution_count": 50,
   "metadata": {},
   "outputs": [
    {
     "data": {
      "text/plain": [
       "<Elemento.TIERRA: (2, 'TIERRA')>"
      ]
     },
     "execution_count": 50,
     "metadata": {},
     "output_type": "execute_result"
    }
   ],
   "source": [
    "Elemento.NONE.tiene_plus_defensa(Elemento.AGUA)"
   ]
  },
  {
   "cell_type": "markdown",
   "metadata": {},
   "source": [
    "## Clase `Turno`\n",
    "\n",
    "Ésta clase, simplemente actua para tener dos constantes con las cuales definir el turno de un jugador."
   ]
  },
  {
   "cell_type": "code",
   "execution_count": 51,
   "metadata": {},
   "outputs": [
    {
     "data": {
      "text/plain": [
       "<Turno.Jugador1: 0>"
      ]
     },
     "execution_count": 51,
     "metadata": {},
     "output_type": "execute_result"
    }
   ],
   "source": [
    "from src.Elemento import Turno\n",
    "Turno.Jugador1"
   ]
  },
  {
   "cell_type": "markdown",
   "metadata": {},
   "source": [
    "## Clase `TipoAtaque`\n",
    "\n",
    "Ésta clase, define por medio de un `Enum` los tipos de ataque posibles en el juego, el ataqu."
   ]
  },
  {
   "cell_type": "code",
   "execution_count": 52,
   "metadata": {},
   "outputs": [
    {
     "data": {
      "text/plain": [
       "<TipoAtaque.ESPECIAL: (15, 'ESPECIAL')>"
      ]
     },
     "execution_count": 52,
     "metadata": {},
     "output_type": "execute_result"
    }
   ],
   "source": [
    "from src.Elemento import TipoAtaque\n",
    "TipoAtaque.NORMAL\n",
    "TipoAtaque.ESPECIAL"
   ]
  },
  {
   "cell_type": "markdown",
   "metadata": {},
   "source": [
    "### Método `__str__`\n",
    "\n",
    "Sobreescribimos el método `__str__` para tener un texto mas amigable."
   ]
  },
  {
   "cell_type": "code",
   "execution_count": 53,
   "metadata": {},
   "outputs": [
    {
     "name": "stdout",
     "output_type": "stream",
     "text": [
      "NORMAL\n",
      "ESPECIAL\n"
     ]
    }
   ],
   "source": [
    "print(TipoAtaque.NORMAL)\n",
    "print(TipoAtaque.ESPECIAL)"
   ]
  },
  {
   "cell_type": "markdown",
   "metadata": {},
   "source": [
    "## Clase `Ataque`\n",
    "\n",
    "Ésta clase, agrupa las propiedades que tiene un ataque, es decir, el tipo de elemento y el tipo de ataque posible. Para el cual sobrescribimos el metodo `__str__` para tener mensajes mas amigables"
   ]
  },
  {
   "cell_type": "code",
   "execution_count": 46,
   "metadata": {},
   "outputs": [
    {
     "name": "stdout",
     "output_type": "stream",
     "text": [
      "NORMAL AGUA\n",
      "ESPECIAL TIERRA\n"
     ]
    }
   ],
   "source": [
    "from src.Elemento import Ataque\n",
    "ataque_1 = Ataque(TipoAtaque.NORMAL,Elemento.AGUA)\n",
    "ataque_2 = Ataque(TipoAtaque.ESPECIAL,Elemento.TIERRA)\n",
    "\n",
    "print(ataque_1)\n",
    "print(ataque_2)"
   ]
  }
 ],
 "metadata": {
  "kernelspec": {
   "display_name": "Python 3",
   "language": "python",
   "name": "python3"
  },
  "language_info": {
   "codemirror_mode": {
    "name": "ipython",
    "version": 3
   },
   "file_extension": ".py",
   "mimetype": "text/x-python",
   "name": "python",
   "nbconvert_exporter": "python",
   "pygments_lexer": "ipython3",
   "version": "3.7.0"
  }
 },
 "nbformat": 4,
 "nbformat_minor": 2
}
