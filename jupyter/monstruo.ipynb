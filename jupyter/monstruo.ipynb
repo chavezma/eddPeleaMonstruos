{
 "cells": [
  {
   "cell_type": "markdown",
   "metadata": {},
   "source": [
    "# Módulo `Monstruo`\n",
    "El módulo Monstruo contiene la implementación de la clase Monstruo que contiene informacion como ser:\n",
    "- El nombre\n",
    "- La vida restante\n",
    "- La cantidad de ataques especiales usados y máximos\n",
    "- Los elementos que dispone.\n",
    "- Un identificador\n",
    "\n",
    "## Clase `Monstruo`\n",
    "La clase Monstruo permite informar los ataques que tiene disponibles, y luego realizar las acciones necesarias para recibir un ataque, es decir, detectar el tipo de elemento del ataque enemigo y calcular si hay disminición o aumento del daño, por ultimo actualizar la vida restante según el valor total del ataque."
   ]
  },
  {
   "cell_type": "code",
   "execution_count": 3,
   "metadata": {
    "scrolled": false
   },
   "outputs": [
    {
     "name": "stdout",
     "output_type": "stream",
     "text": [
      "\tMonstruo = [Splinter] at_esp_usados [0/4] vida [100] - elementos [AIRE, FUEGO]\n"
     ]
    }
   ],
   "source": [
    "from src.Monstruo import Monstruo\n",
    "from src.Elemento import *\n",
    "myM = Monstruo(1, \"Splinter\", [Elemento.AIRE, Elemento.FUEGO])\n",
    "print(myM)"
   ]
  },
  {
   "cell_type": "markdown",
   "metadata": {},
   "source": [
    "Un monstruo no puede crearse sin nombre"
   ]
  },
  {
   "cell_type": "code",
   "execution_count": 4,
   "metadata": {},
   "outputs": [
    {
     "name": "stdout",
     "output_type": "stream",
     "text": [
      "El nombre no puede ser vacio\n"
     ]
    }
   ],
   "source": [
    "try:\n",
    "    m2 = Monstruo(1, \"\", [Elemento.AIRE, Elemento.FUEGO])\n",
    "    print(m2)\n",
    "except Exception as e:\n",
    "        print(e)"
   ]
  },
  {
   "cell_type": "code",
   "execution_count": 5,
   "metadata": {},
   "outputs": [
    {
     "name": "stdout",
     "output_type": "stream",
     "text": [
      "Debe tener dos elementos\n"
     ]
    }
   ],
   "source": [
    "try:\n",
    "    m1=Monstruo( 0, \"Splinter\", [])\n",
    "    \n",
    "except Exception as e:\n",
    "        print(e)"
   ]
  },
  {
   "cell_type": "markdown",
   "metadata": {},
   "source": [
    "## Método `ataques_posibles`\n",
    "El método `ataques_posibles` devuelve un dictionario con la combinacion de Elemento y Tipo de ataque que el Monstruo tiene disponible para atacar al adversario"
   ]
  },
  {
   "cell_type": "code",
   "execution_count": 6,
   "metadata": {
    "scrolled": true
   },
   "outputs": [
    {
     "name": "stdout",
     "output_type": "stream",
     "text": [
      "1 - NORMAL FUEGO\n",
      "2 - NORMAL AIRE\n",
      "3 - ESPECIAL FUEGO\n",
      "4 - ESPECIAL AIRE\n"
     ]
    }
   ],
   "source": [
    "mi_Monstruo = Monstruo(1, \"Shena\", [Elemento.FUEGO, Elemento.AIRE])\n",
    "mDict = mi_Monstruo.ataques_posibles()\n",
    "\n",
    "for op in mDict.keys():\n",
    "    print(str(op) + ' - ' + str(mDict[op]))"
   ]
  },
  {
   "cell_type": "markdown",
   "metadata": {},
   "source": [
    "## Método `calcular_disminucion_danio`\n",
    "El método `calcular_disminucion_danio` recibe la cantidad de puntos de daño que el rival espera ocasionar y el tipo de elemento que posee el ataque. Aplica la regla de defensa y retorna el valor del plus de defensa si corresponde, disminuyendo el daño total. "
   ]
  },
  {
   "cell_type": "code",
   "execution_count": 7,
   "metadata": {},
   "outputs": [
    {
     "name": "stdout",
     "output_type": "stream",
     "text": [
      "\tMonstruo = [Shena] at_esp_usados [0/4] vida [100] - elementos [FUEGO, AIRE]\n",
      "Plus defensa -> 0\n",
      "Plus defensa -> 3.0\n",
      "Plus defensa -> 2.0\n",
      "Plus defensa -> 0\n"
     ]
    }
   ],
   "source": [
    "print(mi_Monstruo)\n",
    "print('Plus defensa -> ' + str(mi_Monstruo.calcular_disminucion_danio(10, Elemento.TIERRA)))\n",
    "print('Plus defensa -> ' + str(mi_Monstruo.calcular_disminucion_danio(15, Elemento.AGUA)))\n",
    "print('Plus defensa -> ' + str(mi_Monstruo.calcular_disminucion_danio(10, Elemento.FUEGO)))\n",
    "print('Plus defensa -> ' + str(mi_Monstruo.calcular_disminucion_danio(15, Elemento.AIRE)))"
   ]
  },
  {
   "cell_type": "markdown",
   "metadata": {},
   "source": [
    "## Método `calcular_aumento_danio`\n",
    "El método `calcular_aumento_danio` recibe la cantidad de puntos de daño que el rival espera ocasionar y el tipo de elemento que posee el ataque. Aplica la regla de ataque y retorna el valor del plus de ataque si corresponde, aumentando asi el daño total."
   ]
  },
  {
   "cell_type": "code",
   "execution_count": 8,
   "metadata": {
    "scrolled": true
   },
   "outputs": [
    {
     "name": "stdout",
     "output_type": "stream",
     "text": [
      "\tMonstruo = [Shena] at_esp_usados [0/4] vida [100] - elementos [FUEGO, AIRE]\n",
      "Plus ataque -> 3.0\n",
      "Plus ataque -> 2.0\n",
      "Plus ataque -> 0\n",
      "Plus ataque -> 0\n"
     ]
    }
   ],
   "source": [
    "print(mi_Monstruo)\n",
    "print('Plus ataque -> ' + str(mi_Monstruo.calcular_aumento_danio(15, Elemento.TIERRA)))\n",
    "print('Plus ataque -> ' + str(mi_Monstruo.calcular_aumento_danio(10, Elemento.AGUA)))\n",
    "print('Plus ataque -> ' + str(mi_Monstruo.calcular_aumento_danio(15, Elemento.FUEGO)))\n",
    "print('Plus ataque -> ' + str(mi_Monstruo.calcular_aumento_danio(10, Elemento.AIRE)))"
   ]
  },
  {
   "cell_type": "markdown",
   "metadata": {},
   "source": [
    "# Método `actulizar_vida`\n",
    "El método `actulizar_vida` recibe el __daño total__ que recibio el monstruo y actualiza la __vida__ total restante. Si el valor total es menor a cero, guarda cero."
   ]
  },
  {
   "cell_type": "code",
   "execution_count": 9,
   "metadata": {},
   "outputs": [
    {
     "name": "stdout",
     "output_type": "stream",
     "text": [
      "\tMonstruo = [Shena] at_esp_usados [0/4] vida [100] - elementos [FUEGO, AIRE]\n",
      "\tMonstruo = [Shena] at_esp_usados [0/4] vida [57] - elementos [FUEGO, AIRE]\n"
     ]
    }
   ],
   "source": [
    "print(mi_Monstruo)\n",
    "mi_Monstruo.actualizar_vida(43)\n",
    "print(mi_Monstruo)"
   ]
  },
  {
   "cell_type": "markdown",
   "metadata": {},
   "source": [
    "# Método `recibir_ataque`\n",
    "El método `recibir_ataque` recibe como parametro un __tipo de ataque__ y el __tipo de elemento__ del ataque, aplica las reglas de ataque y defensa, calculando el daño total realizado y actualiza la vida restante. \n",
    "Retorna una lista [danio_total, danio_base, plus_ataque, plus_defensa] que informa el daño total calculado, y los terminos que componen ese calculo."
   ]
  },
  {
   "cell_type": "code",
   "execution_count": 12,
   "metadata": {},
   "outputs": [
    {
     "name": "stdout",
     "output_type": "stream",
     "text": [
      "\tMonstruo = [Shena] at_esp_usados [0/4] vida [29.0] - elementos [FUEGO, AIRE]\n",
      "[10.0, 10, 2.0, 2.0]\n",
      "\tMonstruo = [Shena] at_esp_usados [0/4] vida [19.0] - elementos [FUEGO, AIRE]\n"
     ]
    }
   ],
   "source": [
    "print(mi_Monstruo)\n",
    "t=TipoAtaque.NORMAL\n",
    "e=Elemento.AGUA\n",
    "print(mi_Monstruo.recibir_ataque(t,e))\n",
    "print(mi_Monstruo)"
   ]
  },
  {
   "cell_type": "code",
   "execution_count": 13,
   "metadata": {},
   "outputs": [
    {
     "name": "stdout",
     "output_type": "stream",
     "text": [
      "\tMonstruo = [Shena] at_esp_usados [0/4] vida [19.0] - elementos [FUEGO, AIRE]\n",
      "[18.0, 15, 3.0, 0]\n",
      "\tMonstruo = [Shena] at_esp_usados [0/4] vida [1.0] - elementos [FUEGO, AIRE]\n"
     ]
    }
   ],
   "source": [
    "print(mi_Monstruo)\n",
    "t=TipoAtaque.ESPECIAL\n",
    "e=Elemento.TIERRA\n",
    "print(mi_Monstruo.recibir_ataque(t,e))\n",
    "print(mi_Monstruo)"
   ]
  }
 ],
 "metadata": {
  "kernelspec": {
   "display_name": "Python 3",
   "language": "python",
   "name": "python3"
  },
  "language_info": {
   "codemirror_mode": {
    "name": "ipython",
    "version": 3
   },
   "file_extension": ".py",
   "mimetype": "text/x-python",
   "name": "python",
   "nbconvert_exporter": "python",
   "pygments_lexer": "ipython3",
   "version": "3.7.0"
  }
 },
 "nbformat": 4,
 "nbformat_minor": 2
}
